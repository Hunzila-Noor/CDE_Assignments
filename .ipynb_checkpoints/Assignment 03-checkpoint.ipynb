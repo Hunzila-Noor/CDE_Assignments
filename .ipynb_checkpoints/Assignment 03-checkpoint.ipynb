{
 "cells": [
  {
   "cell_type": "markdown",
   "id": "caa43ec7-0d87-4b93-8e9c-0e535f73ad25",
   "metadata": {},
   "source": [
    "1) Write a program that accepts a string from user. Your program should count and display number of vowels in that string."
   ]
  },
  {
   "cell_type": "code",
   "execution_count": 12,
   "id": "5d72aac4-d4a7-4122-8e07-9a1f458f7c88",
   "metadata": {},
   "outputs": [
    {
     "name": "stdin",
     "output_type": "stream",
     "text": [
      "Enter a String:  Hunzila NOor\n"
     ]
    },
    {
     "name": "stdout",
     "output_type": "stream",
     "text": [
      " (Hunzila NOor) has 5 vowels\n"
     ]
    }
   ],
   "source": [
    "string = input(\"Enter a String: \")\n",
    "\n",
    "vowels = \"AEIOUaeiou\"\n",
    "count = 0\n",
    "for i in string:\n",
    "    if i in vowels:\n",
    "        count += 1\n",
    "print(f\" ({string}) has {count} vowels\")"
   ]
  },
  {
   "cell_type": "markdown",
   "id": "9da3af62-cba8-4831-a644-037b7fb91f11",
   "metadata": {},
   "source": [
    "2. Write a program that reads a string from the keyboard and displays:  \n",
    "* The number of uppercase letters in the string  \n",
    "* The number of lowercase letters in the string  \n",
    "* The number of digits in the string  \n",
    "* The number of whitespace characters in the string  "
   ]
  },
  {
   "cell_type": "code",
   "execution_count": 20,
   "id": "c7530e9a-bb68-4b2f-b6ad-4fea05a91bec",
   "metadata": {},
   "outputs": [
    {
     "name": "stdin",
     "output_type": "stream",
     "text": [
      "Enter a String:  Hunzila Noor 1998\n"
     ]
    },
    {
     "name": "stdout",
     "output_type": "stream",
     "text": [
      "(Hunzila Noor 1998) has 2 uppercase letters\n",
      " 9 lowercase letters\n",
      " 4 digits\n",
      " 2 whitespaces\n"
     ]
    }
   ],
   "source": [
    "string = input(\"Enter a String: \")\n",
    "uppercase = 0\n",
    "lowercase = 0\n",
    "digits = 0\n",
    "whitespace = 0\n",
    "\n",
    "for char in string:\n",
    "    if char.isupper():\n",
    "       uppercase += 1\n",
    "    elif char.islower():\n",
    "        lowercase += 1\n",
    "    elif char.isdigit():\n",
    "        digits += 1\n",
    "    else:\n",
    "        whitespace +=1\n",
    "print(f\"({string}) has {uppercase} uppercase letters\" )\n",
    "print(f\" {lowercase} lowercase letters\")\n",
    "print(f\" {digits} digits\") \n",
    "print(f\" {whitespace} whitespaces\") "
   ]
  },
  {
   "cell_type": "markdown",
   "id": "db995c68-e5b8-4d51-a66f-905a529c449a",
   "metadata": {},
   "source": [
    "3. Write a Python program that accepts a string from the user. Your program should create and display a new string where the first and last characters have been exchanged.\n",
    "\n",
    "    For example, if the user enters the string 'HELLO', then the new string would be 'OELLH'."
   ]
  },
  {
   "cell_type": "code",
   "execution_count": 36,
   "id": "5ad7108e-f78d-414d-a1fa-1d9b1cac3621",
   "metadata": {},
   "outputs": [
    {
     "name": "stdin",
     "output_type": "stream",
     "text": [
      "Enter a String:  HELLO\n"
     ]
    },
    {
     "name": "stdout",
     "output_type": "stream",
     "text": [
      " New string: OELLH\n"
     ]
    }
   ],
   "source": [
    "string = input(\"Enter a String: \")\n",
    "if len(string) <=1:\n",
    "    new_str = string\n",
    "else:\n",
    "    new_str = string[-1] + string[1:-1] + string[0]\n",
    "print(f\" New string: {new_str}\")"
   ]
  },
  {
   "cell_type": "markdown",
   "id": "9913d311-0650-4baa-8c81-00724d61eac1",
   "metadata": {},
   "source": [
    "4. Write a Python program that accepts a string from user. Your program should create a new string in reverse of first string and display it.\n",
    "    For example if the user enters the string 'EXAM' then new string would be 'MAXE'"
   ]
  },
  {
   "cell_type": "code",
   "execution_count": 45,
   "id": "bd1504e4-2129-40ff-8dba-82c2f0b46f02",
   "metadata": {},
   "outputs": [
    {
     "name": "stdin",
     "output_type": "stream",
     "text": [
      "Enter a string:  EXAM\n"
     ]
    },
    {
     "name": "stdout",
     "output_type": "stream",
     "text": [
      " New String: MAXE\n"
     ]
    }
   ],
   "source": [
    "user_str = input(\"Enter a string: \")\n",
    "new_str = user_str[::-1]\n",
    "print(f\" New String: {new_str}\")"
   ]
  },
  {
   "cell_type": "markdown",
   "id": "c283250d-417e-4c06-8c90-e4c3b35b997c",
   "metadata": {},
   "source": [
    "5. Write a Python program that accepts a string from user. Your program should create a new string by shifting one position to left.\n",
    "    For example if the user enters the string 'examination 2021' then new string would be 'xamination 2021e'"
   ]
  },
  {
   "cell_type": "code",
   "execution_count": 47,
   "id": "89683480-285a-40db-9e52-e449d36bbb87",
   "metadata": {},
   "outputs": [
    {
     "name": "stdin",
     "output_type": "stream",
     "text": [
      "Enter a string:  examination 2021\n"
     ]
    },
    {
     "name": "stdout",
     "output_type": "stream",
     "text": [
      " New String: xamination 2021e\n"
     ]
    }
   ],
   "source": [
    "user_str = input(\"Enter a string: \")\n",
    "\n",
    "new_str = user_str[1:] + user_str[0]\n",
    "print(f\" New String: {new_str}\")"
   ]
  },
  {
   "cell_type": "markdown",
   "id": "96aec43d-f6c4-4517-bf0e-cfb07099d9c6",
   "metadata": {},
   "source": [
    "6. Write a program that asks the user to input his name and print its initials. Assuming that the user always types first name, middle name and last name and does not include any unnecessary spaces.\n",
    "For example, if the user enters Ajay Kumar Garg the program should display A. K. G.\n",
    "Note:Don't use split() method"
   ]
  },
  {
   "cell_type": "code",
   "execution_count": 48,
   "id": "624efe45-94b5-4eae-96af-5027bb87b4b4",
   "metadata": {},
   "outputs": [
    {
     "name": "stdin",
     "output_type": "stream",
     "text": [
      "Enter your Full name:  Ajay Kumar Garg\n"
     ]
    },
    {
     "name": "stdout",
     "output_type": "stream",
     "text": [
      "initials:  A. K. G.\n"
     ]
    }
   ],
   "source": [
    "name = input(\"Enter your Full name: \")\n",
    "\n",
    "initials = name [0] + '.'\n",
    "\n",
    "for i in range(1, len(name)):\n",
    "    if name[i] == ' ':\n",
    "        initials += ' ' + name[i + 1] + '.'\n",
    "\n",
    "print(\"initials: \", initials)"
   ]
  }
 ],
 "metadata": {
  "kernelspec": {
   "display_name": "Python 3 (ipykernel)",
   "language": "python",
   "name": "python3"
  },
  "language_info": {
   "codemirror_mode": {
    "name": "ipython",
    "version": 3
   },
   "file_extension": ".py",
   "mimetype": "text/x-python",
   "name": "python",
   "nbconvert_exporter": "python",
   "pygments_lexer": "ipython3",
   "version": "3.12.7"
  }
 },
 "nbformat": 4,
 "nbformat_minor": 5
}
