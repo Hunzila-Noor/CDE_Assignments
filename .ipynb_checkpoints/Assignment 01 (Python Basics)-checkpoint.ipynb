{
 "cells": [
  {
   "cell_type": "markdown",
   "metadata": {},
   "source": [
    "# Part -1 Python Basics (Variables)"
   ]
  },
  {
   "cell_type": "markdown",
   "metadata": {},
   "source": [
    "1. Print Your Name with your Father name and Date of birth using suitable escape sequence charactor"
   ]
  },
  {
   "cell_type": "code",
   "execution_count": 2,
   "metadata": {},
   "outputs": [
    {
     "name": "stdout",
     "output_type": "stream",
     "text": [
      "Hunzila Noor \n",
      "Amjad Mahmood\n",
      "November 19, 1998\n"
     ]
    }
   ],
   "source": [
    "print(\"Hunzila Noor \\nAmjad Mahmood\\nNovember 19, 1998\")"
   ]
  },
  {
   "cell_type": "markdown",
   "metadata": {},
   "source": [
    "2. Write your small bio using variables and print it using print function"
   ]
  },
  {
   "cell_type": "code",
   "execution_count": 142,
   "metadata": {},
   "outputs": [
    {
     "name": "stdout",
     "output_type": "stream",
     "text": [
      "I've done BS Computer Science from FAST and now I'm working as a Jr. Software Developer at e-Creatorz\n"
     ]
    }
   ],
   "source": [
    "bio = \"I've done BS Computer Science from FAST and now I'm working as a Jr. Software Developer at e-Creatorz\"\n",
    "print(bio)"
   ]
  },
  {
   "cell_type": "markdown",
   "metadata": {},
   "source": [
    "3. Write a program in which use all the operators we can use in Python"
   ]
  },
  {
   "cell_type": "code",
   "execution_count": 6,
   "metadata": {},
   "outputs": [
    {
     "name": "stdout",
     "output_type": "stream",
     "text": [
      "Arithmetic Operators:\n",
      "Addition: 50\n",
      "Subtraction: 10\n",
      "Multipilicatoin: 600\n",
      "Dividion: 3.3333333333333335\n",
      "Floor Division: 3\n",
      "Modulus: 1\n",
      "Exponentiation: 1000\n",
      "\n",
      "Comparison Operators:\n",
      "Equal: False\n",
      "Not Equal: True\n",
      "Greater Then: True\n",
      "Less Then: False\n",
      "Less Then Equal to: True\n",
      "Less Then Equal to: False\n"
     ]
    }
   ],
   "source": [
    "\n",
    "x = 20\n",
    "y = 30\n",
    "\n",
    "print(\"Arithmetic Operators:\")\n",
    "print(\"Addition:\", x + y)\n",
    "print(\"Subtraction:\", y - x)\n",
    "print(\"Multipilicatoin:\", x * y)\n",
    "\n",
    "a = 10\n",
    "b = 3\n",
    "\n",
    "print(\"Dividion:\", a / b)        \n",
    "print(\"Floor Division:\", a // b) \n",
    "print(\"Modulus:\", a % b)        \n",
    "print(\"Exponentiation:\", a ** b) \n",
    "\n",
    "# 2. Comparison Operators\n",
    "\n",
    "print(\"\\nComparison Operators:\")\n",
    "print(\"Equal:\", a == b)\n",
    "print(\"Not Equal:\", a != b)\n",
    "print(\"Greater Then:\", a > b)\n",
    "print(\"Less Then:\", a < b)\n",
    "print(\"Less Then Equal to:\", a >= b)\n",
    "print(\"Less Then Equal to:\", a <= b)"
   ]
  },
  {
   "cell_type": "markdown",
   "metadata": {},
   "source": [
    "4. Completes the following steps of small task:\n",
    "    - Mention Marks of English , Islamiat and Maths out of 100 in 3 different variables\n",
    "    - Mention Variable of Total Marks and assign 300 to it\n",
    "    - Calculate Percentage"
   ]
  },
  {
   "cell_type": "code",
   "execution_count": 153,
   "metadata": {},
   "outputs": [
    {
     "name": "stdout",
     "output_type": "stream",
     "text": [
      "Total Marks: 300\n",
      "Obtained Marks: 229\n",
      "Percentage: 76.33\n"
     ]
    }
   ],
   "source": [
    "Math_Marks = 63\n",
    "Isl_Marks = 77\n",
    "Eng_Marks = 89\n",
    "\n",
    "Total_Marks = 300\n",
    "Obtained_Marks = Math_Marks + Isl_Marks + Eng_Marks\n",
    "percentage = Obtained_Marks / Total_Marks * 100\n",
    "\n",
    "print(\"Total Marks:\", Total_Marks)\n",
    "print(\"Obtained Marks:\", Obtained_Marks)\n",
    "print(\"Percentage:\", f\"{percentage:.2f}\")"
   ]
  },
  {
   "cell_type": "markdown",
   "metadata": {},
   "source": [
    "# Part -2 Python Basics (Conditional Statements)"
   ]
  },
  {
   "cell_type": "markdown",
   "metadata": {},
   "source": [
    "1) A company decided to give bonus of 5% to employee if his/her year of service is more than 5 years.\n",
    "Ask user for their salary and year of service and print the net bonus amount."
   ]
  },
  {
   "cell_type": "code",
   "execution_count": 9,
   "metadata": {},
   "outputs": [
    {
     "name": "stdin",
     "output_type": "stream",
     "text": [
      "Enter your service duration  6\n",
      "Enter your salary  35000\n"
     ]
    },
    {
     "name": "stdout",
     "output_type": "stream",
     "text": [
      "Congratulations! You are able to get bonus.:  1750.0\n"
     ]
    }
   ],
   "source": [
    "user_exp = float(input(\"Enter your service duration \"))\n",
    "emp_salary = int(input(\"Enter your salary \"))\n",
    "\n",
    "\n",
    "if user_exp > 5:\n",
    "    bonus = emp_salary * 0.05\n",
    "    print(\"Congratulations! You are able to get bonus.: \", bonus)\n",
    "else:\n",
    "    print(\"Sorry, You are not able to get bonus.\")"
   ]
  },
  {
   "cell_type": "markdown",
   "metadata": {},
   "source": [
    "\n",
    "2) Write a program to check whether a person is eligible for voting or not. (accept age from user) if age is greater than 17 eligible otherwise not eligible"
   ]
  },
  {
   "cell_type": "code",
   "execution_count": 16,
   "metadata": {},
   "outputs": [
    {
     "name": "stdin",
     "output_type": "stream",
     "text": [
      "Your age?  16\n"
     ]
    },
    {
     "name": "stdout",
     "output_type": "stream",
     "text": [
      "Sorry you are not eligible for voting\n"
     ]
    }
   ],
   "source": [
    "age = int(input(\"Your age? \"))\n",
    "\n",
    "if age > 17:\n",
    "    print(\"You are eligible for voting\")\n",
    "else:\n",
    "      print(\"Sorry you are not eligible for voting\")"
   ]
  },
  {
   "cell_type": "markdown",
   "metadata": {},
   "source": [
    "\n",
    "3) Write a program to check whether a number entered by user is even or odd."
   ]
  },
  {
   "cell_type": "code",
   "execution_count": 20,
   "metadata": {},
   "outputs": [
    {
     "name": "stdin",
     "output_type": "stream",
     "text": [
      "Enter a number:  18\n"
     ]
    },
    {
     "name": "stdout",
     "output_type": "stream",
     "text": [
      "it's an even number\n"
     ]
    }
   ],
   "source": [
    "n = int(input(\"Enter a number: \"))\n",
    "if n % 2 == 0:\n",
    "        print(\"it's an even number\")\n",
    "else:\n",
    "    print(\"it's an even number\")\n",
    "              "
   ]
  },
  {
   "cell_type": "markdown",
   "metadata": {},
   "source": [
    "4) Write a program to check whether a number is divisible by 7 or not.\n",
    "Show Answer"
   ]
  },
  {
   "cell_type": "code",
   "execution_count": 22,
   "metadata": {},
   "outputs": [
    {
     "name": "stdin",
     "output_type": "stream",
     "text": [
      "Enter a number:  77\n",
      "Enter a divisor:  7\n"
     ]
    },
    {
     "name": "stdout",
     "output_type": "stream",
     "text": [
      "It's divisible number\n"
     ]
    }
   ],
   "source": [
    "n = int(input(\"Enter a number: \"))\n",
    "divisor = int(input(\"Enter a divisor: \"))\n",
    "\n",
    "if n % divisor == 0:\n",
    "    print(\"It's divisible number\")\n",
    "else:\n",
    "    print(\"It isn't a divisible number\")"
   ]
  },
  {
   "cell_type": "markdown",
   "metadata": {},
   "source": [
    "5) Write a program to display \n",
    "\"Hello\" if a number entered by user is a multiple of five , otherwise print \"Bye\"."
   ]
  },
  {
   "cell_type": "code",
   "execution_count": 25,
   "metadata": {},
   "outputs": [
    {
     "name": "stdin",
     "output_type": "stream",
     "text": [
      "Enter a number:  25\n"
     ]
    },
    {
     "name": "stdout",
     "output_type": "stream",
     "text": [
      "Hello\n"
     ]
    }
   ],
   "source": [
    "user_input = int(input(\"Enter a number: \"))\n",
    "\n",
    "if user_input % 5 == 0:\n",
    "    print(\"Hello\")\n",
    "else:\n",
    "    print(\"Bye\")"
   ]
  },
  {
   "cell_type": "markdown",
   "metadata": {},
   "source": [
    "7) Write a program to display the last digit of a number.\n"
   ]
  },
  {
   "cell_type": "code",
   "execution_count": 26,
   "metadata": {},
   "outputs": [
    {
     "name": "stdin",
     "output_type": "stream",
     "text": [
      "Enter your number: 7889879\n"
     ]
    },
    {
     "name": "stdout",
     "output_type": "stream",
     "text": [
      "Your last digit is 9\n"
     ]
    }
   ],
   "source": [
    "add_number = int(input(\"Enter your number:\" ))\n",
    "last_digit = add_number % 10\n",
    "print(\"Your last digit is\", last_digit)"
   ]
  },
  {
   "cell_type": "markdown",
   "metadata": {},
   "source": [
    "9) Take values of length and breadth of a rectangle from user and print if it is square or rectangle."
   ]
  },
  {
   "cell_type": "code",
   "execution_count": 27,
   "metadata": {},
   "outputs": [
    {
     "name": "stdin",
     "output_type": "stream",
     "text": [
      "Enter the lenght:  9\n",
      "Enter the breadth:  3\n"
     ]
    },
    {
     "name": "stdout",
     "output_type": "stream",
     "text": [
      "It's a rectangle\n"
     ]
    }
   ],
   "source": [
    "lenght = int(input(\"Enter the lenght: \"))\n",
    "breadth = int(input(\"Enter the breadth: \"))\n",
    "\n",
    "if lenght == breadth:\n",
    "    print(\"It's a Square\")\n",
    "else:\n",
    "    print(\"It's a rectangle\")"
   ]
  },
  {
   "cell_type": "markdown",
   "metadata": {},
   "source": [
    "10) Take two int values from user and print greatest among them."
   ]
  },
  {
   "cell_type": "code",
   "execution_count": 31,
   "metadata": {},
   "outputs": [
    {
     "name": "stdin",
     "output_type": "stream",
     "text": [
      "Enter first value:  7\n",
      "Enter second value:  7\n"
     ]
    },
    {
     "name": "stdout",
     "output_type": "stream",
     "text": [
      "7 - 7 Both are equal\n"
     ]
    }
   ],
   "source": [
    "First_val = int(input(\"Enter first value: \"))\n",
    "Second_val = int(input(\"Enter second value: \"))\n",
    "\n",
    "if First_val > Second_val:\n",
    "    print(First_val, \"Your first no is bigger then second\")\n",
    "elif Second_val > First_val:\n",
    "    print(Second_val, \"Your second no is bigger then first\")\n",
    "else:\n",
    "    print(First_val, \"-\", Second_val,\"Both are equal\")"
   ]
  },
  {
   "cell_type": "markdown",
   "metadata": {},
   "source": [
    "11) A shop will give discount of 10% if the cost of purchased quantity is more than 1000.\n",
    "Ask user for quantity\n",
    "Suppose, one unit will cost 100.\n",
    "Judge and print total cost for user"
   ]
  },
  {
   "cell_type": "code",
   "execution_count": 43,
   "metadata": {},
   "outputs": [
    {
     "name": "stdin",
     "output_type": "stream",
     "text": [
      "Total units :  1001\n"
     ]
    },
    {
     "name": "stdout",
     "output_type": "stream",
     "text": [
      "Amount after 10% discount:  90090.0\n"
     ]
    }
   ],
   "source": [
    "pur_quantity = int(input(\"Total units : \"))\n",
    "per_unit_cost = 100\n",
    "cost = pur_quantity * per_unit_cost\n",
    "if pur_quantity > 1000:\n",
    "    discount =  cost * 0.1\n",
    "    tot_cost = cost - discount\n",
    "    print(\"Amount after 10% discount: \", tot_cost)\n",
    "else:\n",
    "    print(\"Amount without discount \",cost)"
   ]
  },
  {
   "cell_type": "markdown",
   "metadata": {},
   "source": [
    "12) A school has following rules for grading system:\n",
    "\n",
    "a. Below 25 - F\n",
    "\n",
    "b. 25 to 45 - E\n",
    "\n",
    "c. 45 to 50 - D\n",
    "\n",
    "d. 50 to 60 - C\n",
    "\n",
    "e. 60 to 80 - B\n",
    "\n",
    "f. Above 80 - A\n",
    "\n",
    "Ask user to enter marks and print the corresponding grade."
   ]
  },
  {
   "cell_type": "code",
   "execution_count": 68,
   "metadata": {},
   "outputs": [
    {
     "name": "stdin",
     "output_type": "stream",
     "text": [
      "Enter your Marks please out 0f 100 :  50\n"
     ]
    },
    {
     "name": "stdout",
     "output_type": "stream",
     "text": [
      "Grade D\n"
     ]
    }
   ],
   "source": [
    "marks = int(input(\"Enter your Marks please out 0f 100 : \"))\n",
    "\n",
    "if marks > 80 and marks <=100:\n",
    "    print(\"Grade A\")\n",
    "elif marks > 60 and marks <=80:\n",
    "    print(\"Grade B\")\n",
    "elif marks > 50 and marks <=60:\n",
    "    print(\"Grade C\")\n",
    "elif marks > 45 and marks <=50:\n",
    "    print(\"Grade D\")\n",
    "elif marks > 25 and marks <=45:\n",
    "    print(\"Grade E\")\n",
    "elif marks >= 0 and marks < 25:\n",
    "    print(\"Grade F\")\n",
    "else:\n",
    "    print(\"invalid input\")"
   ]
  },
  {
   "cell_type": "markdown",
   "metadata": {},
   "source": [
    "14)A student will not be allowed to sit in exam if his/her attendence is less than 75%.\n",
    "\n",
    "Take following input from user\n",
    "\n",
    "- Number of classes held\n",
    "\n",
    "- Number of classes attended.\n",
    "\n",
    "And print\n",
    "\n",
    "- percentage of class attended\n",
    "\n",
    "- Is student is allowed to sit in exam or not.\n"
   ]
  },
  {
   "cell_type": "code",
   "execution_count": 89,
   "metadata": {},
   "outputs": [
    {
     "name": "stdin",
     "output_type": "stream",
     "text": [
      "Enetr Number of classes held:  45\n",
      "Enetr Number of classes attedented:  33\n"
     ]
    },
    {
     "name": "stdout",
     "output_type": "stream",
     "text": [
      "Attendance:  73.33 %\n",
      "Sorry, you are not allowed to sit in exam!\n"
     ]
    }
   ],
   "source": [
    "No_classes_held = int(input(\"Enetr Number of classes held: \"))\n",
    "No_classes_attend = int(input(\"Enetr Number of classes attedented: \"))\n",
    "percentage = (No_classes_attend/No_classes_held)*100\n",
    "print(\"Attendance: \", f\"{percentage:.2f}\",\"%\")\n",
    "if percentage < 75:\n",
    "    print(\"Sorry, you are not allowed to sit in exam!\")\n",
    "else:\n",
    "    print(\"You are allowed to sit in exam\")"
   ]
  },
  {
   "cell_type": "markdown",
   "metadata": {},
   "source": [
    "15) Modify the above question to allow student to sit if he/she has medical cause. Ask user if he/she has medical cause or not ( 'Y' or 'N' ) and print accordingly."
   ]
  },
  {
   "cell_type": "code",
   "execution_count": 124,
   "metadata": {},
   "outputs": [
    {
     "name": "stdin",
     "output_type": "stream",
     "text": [
      "Enter Number of classes held:  45\n",
      "Enter Number of classes attedented:  33\n"
     ]
    },
    {
     "name": "stdout",
     "output_type": "stream",
     "text": [
      "Attendance:  73.33 %\n"
     ]
    },
    {
     "name": "stdin",
     "output_type": "stream",
     "text": [
      "Do you have a medical cause(Y/N):  N\n"
     ]
    },
    {
     "name": "stdout",
     "output_type": "stream",
     "text": [
      "not allowed\n"
     ]
    }
   ],
   "source": [
    "No_classes_held = int(input(\"Enter Number of classes held: \"))\n",
    "No_classes_attend = int(input(\"Enter Number of classes attedented: \"))\n",
    "\n",
    "percentage = (No_classes_attend/No_classes_held)*100\n",
    "print(\"Attendance: \", f\"{percentage:.2f}\",\"%\")\n",
    "if percentage < 75:\n",
    "    medical_cause = input(\"Do you have a medical cause(Y/N): \")\n",
    "    if medical_cause == \"Y\":\n",
    "        print(\"you are allowed due to medical cause\")\n",
    "    else:\n",
    "        print(\"not allowed\")\n",
    "else:\n",
    "    print(\"Allowed to sit\")"
   ]
  },
  {
   "cell_type": "markdown",
   "metadata": {},
   "source": [
    "16) Write a program to check if a year is leap year or not.\n",
    "\n",
    "If a year is divisible by 4 then it is leap year but if the year is century year like 2000, 1900, 2100 then it must be divisible by 400."
   ]
  },
  {
   "cell_type": "code",
   "execution_count": 135,
   "metadata": {},
   "outputs": [
    {
     "name": "stdin",
     "output_type": "stream",
     "text": [
      "Enter a year:  1900\n"
     ]
    },
    {
     "name": "stdout",
     "output_type": "stream",
     "text": [
      "The year you entered is not a leap year\n"
     ]
    }
   ],
   "source": [
    "year = int(input(\"Enter a year: \"))\n",
    "if (year % 4 == 0 and year % 100 != 0) or (year % 400 == 0):\n",
    "    print(\"It's a leap year\")\n",
    "else:\n",
    "    print(\"The year you entered is not a leap year\")"
   ]
  },
  {
   "cell_type": "markdown",
   "metadata": {},
   "source": [
    "17) Ask user to enter age, gender ( M or F ), marital status ( Y or N ) and then using following rules print their place of service.\n",
    "\n",
    "if employee is female, then she will work only in urban areas.\n",
    "\n",
    "if employee is a male and age is in between 20 to 40 then he may work in anywhere\n",
    "\n",
    "if employee is male and age is in between 40 t0 60 then he will work in urban areas only.\n",
    "\n",
    "And any other input of age should print \"ERROR\""
   ]
  },
  {
   "cell_type": "code",
   "execution_count": 141,
   "metadata": {},
   "outputs": [
    {
     "name": "stdin",
     "output_type": "stream",
     "text": [
      "Enter age:  5\n",
      "Enter a gender (M/F):  M\n",
      "Enter Marital status (Y/N):  N\n"
     ]
    },
    {
     "name": "stdout",
     "output_type": "stream",
     "text": [
      "ERROR\n"
     ]
    }
   ],
   "source": [
    "emp_age = int(input(\"Enter age: \"))\n",
    "emp_gender = input(\"Enter a gender (M/F): \")\n",
    "emp_Marital_status = input(\"Enter Marital status (Y/N): \")\n",
    "\n",
    "if (emp_gender == \"F\"):\n",
    "    print(\"you can only work in urban areas\")\n",
    "elif (emp_gender == \"M\") and (emp_age > 20 and emp_age <= 40):\n",
    "    print(\"you may work anywhere\")\n",
    "elif (emp_gender == \"M\") and (emp_age > 40 and emp_age <= 60):\n",
    "    print(\"you can only work in urban areas\")\n",
    "else:\n",
    "    print(\"ERROR\")\n"
   ]
  },
  {
   "cell_type": "markdown",
   "metadata": {},
   "source": [
    "6) Write a program to calculate the electricity bill (accept number of unit from user) according to the following criteria :\n",
    "     Unit                                                     Price  \n",
    "uptp 100 units                                             no charge\n",
    "Next 200 units                                              Rs 5 per unit\n",
    "After 200 units                                             Rs 10 per unit\n",
    "(For example if input unit is 350 than total bill amount is Rs.3500\n",
    "(For example if input unit is 97 than total bill amount is Rs.0\n",
    "(For example if input unit is 150 than total bill amount is Rs.750"
   ]
  },
  {
   "cell_type": "code",
   "execution_count": 166,
   "metadata": {},
   "outputs": [
    {
     "name": "stdin",
     "output_type": "stream",
     "text": [
      "Enter number of units:  150\n"
     ]
    },
    {
     "name": "stdout",
     "output_type": "stream",
     "text": [
      "Total bill amount is Rs. 750\n"
     ]
    }
   ],
   "source": [
    "units = int(input(\"Enter number of units: \"))\n",
    "\n",
    "if units <= 100:\n",
    "    bill = 0\n",
    "elif units <= 200:\n",
    "    bill = units * 5\n",
    "else:\n",
    "    units > 200\n",
    "    bill = units *10\n",
    "\n",
    "print(f\"Total bill amount is Rs. {bill}\")\n"
   ]
  },
  {
   "cell_type": "markdown",
   "metadata": {},
   "source": [
    "13) Take input of age of 3 people by user and determine oldest and youngest among them."
   ]
  },
  {
   "cell_type": "code",
   "execution_count": 6,
   "metadata": {},
   "outputs": [
    {
     "name": "stdin",
     "output_type": "stream",
     "text": [
      "Enter age of person 1:  23\n",
      "Enter age of person 2:  19\n",
      "Enter age of person 3:  21\n"
     ]
    },
    {
     "name": "stdout",
     "output_type": "stream",
     "text": [
      "Person 1 is the oldest\n",
      "Person 2 is the youngest\n"
     ]
    }
   ],
   "source": [
    "age_p_one = int(input(\"Enter age of person 1: \"))\n",
    "age_p_two = int(input(\"Enter age of person 2: \"))\n",
    "age_p_three = int(input(\"Enter age of person 3: \"))\n",
    "\n",
    "if (age_p_one > age_p_two) and (age_p_one > age_p_three):\n",
    "    print(\"Person 1 is the oldest\")\n",
    "elif (age_p_two > age_p_one) and (age_p_two > age_p_three):\n",
    "    print(\"Person 2 is the oldest\")\n",
    "elif (age_p_three > age_p_one) and (age_p_three > age_p_two):\n",
    "    print(\"Person 3 is the oldest\")\n",
    "else:\n",
    "    print(\"Some persons have the same oldest age\")\n",
    "\n",
    "if (age_p_one < age_p_two) and (age_p_one < age_p_three):\n",
    "    print(\"Person 1 is the youngest\")\n",
    "elif (age_p_two < age_p_one) and (age_p_two < age_p_three):\n",
    "    print(\"Person 2 is the youngest\")\n",
    "elif (age_p_three < age_p_one) and (age_p_three < age_p_two):\n",
    "    print(\"Person 3 is the youngest\")\n",
    "else:\n",
    "    print(\"Some persons have the same youngest age\")"
   ]
  },
  {
   "cell_type": "code",
   "execution_count": null,
   "metadata": {},
   "outputs": [],
   "source": []
  }
 ],
 "metadata": {
  "kernelspec": {
   "display_name": "Python 3 (ipykernel)",
   "language": "python",
   "name": "python3"
  },
  "language_info": {
   "codemirror_mode": {
    "name": "ipython",
    "version": 3
   },
   "file_extension": ".py",
   "mimetype": "text/x-python",
   "name": "python",
   "nbconvert_exporter": "python",
   "pygments_lexer": "ipython3",
   "version": "3.12.7"
  }
 },
 "nbformat": 4,
 "nbformat_minor": 4
}
